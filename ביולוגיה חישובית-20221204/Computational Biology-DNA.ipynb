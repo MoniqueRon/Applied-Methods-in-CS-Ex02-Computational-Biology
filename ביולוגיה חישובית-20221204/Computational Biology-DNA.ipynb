{
 "cells": [
  {
   "cell_type": "markdown",
   "id": "bf6c9fe9",
   "metadata": {},
   "source": [
    "# Computational Biology\n",
    "\n",
    "The following part loads and manage all libraries etc for this Notebook"
   ]
  },
  {
   "cell_type": "code",
   "execution_count": 1,
   "id": "32c42a8c",
   "metadata": {},
   "outputs": [
    {
     "name": "stdout",
     "output_type": "stream",
     "text": [
      "Defaulting to user installation because normal site-packages is not writeable"
     ]
    },
    {
     "name": "stderr",
     "output_type": "stream",
     "text": [
      "\n",
      "[notice] A new release of pip available: 22.2.2 -> 22.3.1\n",
      "[notice] To update, run: python.exe -m pip install --upgrade pip\n"
     ]
    },
    {
     "name": "stdout",
     "output_type": "stream",
     "text": [
      "\n",
      "Requirement already satisfied: gensim in c:\\programdata\\anaconda3\\lib\\site-packages (4.1.2)\n",
      "Requirement already satisfied: scipy>=0.18.1 in c:\\programdata\\anaconda3\\lib\\site-packages (from gensim) (1.7.3)\n",
      "Requirement already satisfied: numpy>=1.17.0 in c:\\users\\ami\\appdata\\roaming\\python\\python39\\site-packages (from gensim) (1.22.4)\n",
      "Requirement already satisfied: smart-open>=1.8.1 in c:\\programdata\\anaconda3\\lib\\site-packages (from gensim) (5.1.0)\n"
     ]
    },
    {
     "name": "stderr",
     "output_type": "stream",
     "text": [
      "\n",
      "[notice] A new release of pip available: 22.2.2 -> 22.3.1\n",
      "[notice] To update, run: python.exe -m pip install --upgrade pip\n"
     ]
    },
    {
     "name": "stdout",
     "output_type": "stream",
     "text": [
      "Defaulting to user installation because normal site-packages is not writeable\n",
      "Requirement already satisfied: numpy in c:\\users\\ami\\appdata\\roaming\\python\\python39\\site-packages (1.22.4)\n",
      "Done\n"
     ]
    }
   ],
   "source": [
    "!pip install gensim\n",
    "!pip install numpy\n",
    "#!pip install matplotlib\n",
    "\n",
    "import numpy\n",
    "import gensim.downloader as api\n",
    "#import matplotlib.pyplot as plt\n",
    "# wv = api.load('word2vec-google-news-300')\n",
    "print(\"Done\")"
   ]
  },
  {
   "cell_type": "markdown",
   "id": "0aa4de98",
   "metadata": {},
   "source": [
    "### 1. Chopping a piece of the Human Genome DNA to many short Chops of DNA\n",
    "\n",
    "We will write a code that does what the Human Genome Project did to construct a full DNA sequence of the Human genome:\n",
    "First we create a DNA sequence (list of A, T, C, G's) that represent a part of the Human Genome we want to identify. Then, we will \"chop\" it to pieces with some overlap between them like cutting spagetti to many little pieces. This is the input the real Human Genome Project had: lot's of unidentified little pieces from the human DNA tha need to be sorted and unified to one long sequence of DNA.\n",
    "\n"
   ]
  },
  {
   "cell_type": "code",
   "execution_count": 19,
   "id": "1b340cf3",
   "metadata": {},
   "outputs": [
    {
     "name": "stdout",
     "output_type": "stream",
     "text": [
      "Min-Max overlap: 20 : 40\n",
      "\n",
      "12 chops of DNA before mixing.\n",
      "\n",
      "\n",
      "Done.\n",
      "An unsorted chops of DNA is ready for the reconstruction of the original DNA\n"
     ]
    }
   ],
   "source": [
    "import math\n",
    "import random\n",
    "import numpy as np\n",
    "\n",
    "\n",
    "DemoMode = False    # If not demo mode, we run the code on much larger DNA sequence (see below)\n",
    "DebugMode = False\n",
    "\n",
    "if DemoMode:\n",
    "    DNA_Size = 600\n",
    "    ChopSize = 60\n",
    "    MaxIterationsAllowed = 3000\n",
    "else:\n",
    "    DNA_Size = 1200\n",
    "    ChopSize = 100\n",
    "    MaxIterationsAllowed = 300000\n",
    "\n",
    "    \n",
    "overlap_min = math.ceil(ChopSize*0.2)\n",
    "overlap_max = overlap_min*2\n",
    "print(f'Min-Max overlap: {overlap_min} : {overlap_max}')\n",
    "\n",
    "\n",
    "# This is the original, long DNA sequence, we will work with. To make it short, we generate pseude-DNA randomly.\n",
    "# In real lab, we will get this long DNA sequence from real Human genome\n",
    "FullDNA = random.choices([\"A\", \"T\", \"G\", \"C\"], weights = [0.2, 0.2, 0.3, 0.3], k=DNA_Size)\n",
    "FullDNA = ''.join(FullDNA)\n",
    "\n",
    "# Cut little chops from the FullDNA with some random overlap between the chops\n",
    "start_index = 0\n",
    "end_index = ChopSize + random.randint(overlap_min, overlap_max)\n",
    "DNA_Chop = []\n",
    "i=0\n",
    "while end_index<len(FullDNA):\n",
    "    DNA_Slice = FullDNA[start_index:end_index]\n",
    "    if DebugMode:\n",
    "        print(f'Piece # {i}: {len(DNA_Slice)} long: {start_index}:{end_index} {\"\".join(DNA_Slice)}')\n",
    "    start_index = end_index - random.randint(overlap_min, overlap_max)\n",
    "    end_index = start_index + ChopSize + random.randint(overlap_min, overlap_max)\n",
    "    DNA_Chop.append(''.join(DNA_Slice))\n",
    "    i = i + 1\n",
    "    \n",
    "# Special treatment to last chop of DNA which is at the end of the FullDnaSequence\n",
    "if start_index<len(FullDNA):\n",
    "    start_index = start_index - random.randint(overlap_min, overlap_max)\n",
    "    DNA_Slice = FullDNA[start_index:]\n",
    "    DNA_Chop.append(''.join(DNA_Slice))\n",
    "    if DebugMode:\n",
    "        print(f'Piece # {i}: {len(DNA_Slice)} long: {start_index}:{DNA_Size} {\"\".join(DNA_Slice)}')\n",
    "\n",
    "print(f'\\n{i+1} chops of DNA before mixing.\\n')\n",
    "\n",
    "\n",
    "\n",
    "# We now mix the pieces so they are not in the right order\n",
    "\n",
    "Unsorted_DNA_sequence = []\n",
    "Unsorted_DNA_index = ['not used'] * (i+1)\n",
    "for j in range(0,i+1):\n",
    "    add_i = random.randint(0,i)\n",
    "    # Looking for an empty place to add the next chop\n",
    "    counter = 0\n",
    "    while Unsorted_DNA_index[add_i] != 'not used':\n",
    "        counter = counter + 1\n",
    "        add_i = add_i + 1\n",
    "        if add_i>i:\n",
    "            add_i = 0\n",
    "        if counter>3000:\n",
    "            print('!!!break because of counter!!!')\n",
    "            break\n",
    "    # Insert the new piece in the empty place\n",
    "    Unsorted_DNA_index[add_i] = j\n",
    "    if DebugMode:\n",
    "        print(f'Move chop {j} to {add_i}')\n",
    "        ii = input('ok?')\n",
    "\n",
    "if DebugMode:\n",
    "    print(f'\\nThese are the allocations of the chops into an unsorted list of chops')\n",
    "    print(Unsorted_DNA_index)\n",
    "\n",
    "# Save the DNA Chops in the unsorted places we just randomly decided to mix them\n",
    "for j in range(0,i+1):\n",
    "    #print(f'Adding piece #{Unsorted_DNA_index[j]} to the Unsorted_DNA_sequence')\n",
    "    Unsorted_DNA_sequence.append(DNA_Chop[Unsorted_DNA_index[j]])\n",
    "    \n",
    "print('\\nDone.\\nAn unsorted chops of DNA is ready for the reconstruction of the original DNA')"
   ]
  },
  {
   "cell_type": "markdown",
   "id": "85ce2549",
   "metadata": {},
   "source": [
    "### 2. Reconstructing the original full-DNA sequence from the unsorted chops\n",
    "\n",
    "We now look at the chop sand try to connect them into one long sequence which is a reconstruction of the original DNA using the overlapping parts between the pieces."
   ]
  },
  {
   "cell_type": "code",
   "execution_count": 20,
   "id": "473b7d58",
   "metadata": {},
   "outputs": [
    {
     "name": "stdout",
     "output_type": "stream",
     "text": [
      "len(Unsorted_DNA_sequence)=12\n",
      "len(Unsorted_DNA_sequence)=11\n",
      "len(Unsorted_DNA_sequence)=10\n",
      "len(Unsorted_DNA_sequence)=9\n",
      "len(Unsorted_DNA_sequence)=8\n",
      "len(Unsorted_DNA_sequence)=7\n",
      "len(Unsorted_DNA_sequence)=6\n",
      "len(Unsorted_DNA_sequence)=5\n",
      "len(Unsorted_DNA_sequence)=4\n",
      "len(Unsorted_DNA_sequence)=3\n",
      "len(Unsorted_DNA_sequence)=2\n",
      "\n",
      "Restored DNA = TGTGCATTCTCCACCCTTGCAAGGGGTTGGTTTAGGGGATGGATCCCTCGAACCCGCCAGGTCTGTTCTGATAAAGCGGCAATTGTGGAGATCGTCCAACCGTGATTAAGCCTTAATCCTGGGTCAACATACTCTAAAACCATAGCCCGCCGCCTGGCCTAGCGCTTATCACAGAGCTATTCAGCGCGGCCTGGAGACCCCGGGCGCCAACGGTTTTCCGGCACCCGGCGCTCATAACGACGGGTCGACCTTCAGCGGCACATATCACTAAAAAGGAGTCTGATCGGTGTGCCCAGGAACATCGGCTCGTCGGTTCTGCAGCGATGGTCACACAGAGAAGATCGTAGGCGCCGGAGTACTGTCATTGGGGTTGACTAGGCTCCAGCTGGGTGCCGTAATCTTGCTGGGAGGCACGGCGCACCCGCCCTGAGCGCCCAATAGGTCGAGCGCCTAGGCCTACAGACGGTCGGCACGTTAGTCCTTCCGTCGCAGCCTAGTGGACCTCAGCGACAGCCGGACCCCCGCGACGTCGCCTGGCCCGAGCGGTCCGACCGCAGGCTACAAAAGCATTTTTCTACTCATCGCCGGACGCCACTAGCAACACTCGCCGGCCATCGCCTGTATGTGTGGCCAGGGCTCGTGGTGAAGTTCCTATGGTCCGACCAGCAGTCGGGTCTGCGCCTTGCATTGCTTATCTGAAGACCTGTGATGGGGTTATTCATTTACCACTGAGCTACGGCGTTCCGCGACGGCACAGACTGGCCTGTTTAGTTTCACACCGACGTTGGAGAATGTGTGTCATCTAGCGTTTCACGGTCAAGGAGATTGCGGAATAGGCCCAATCGCCCTCCGGTTATCAATCCCCATTTACGGACCAATGCTTACGAAGCGGTTTACGTATAACCAGGATACTGTGTCCTAGCGGGGAAAAGGATCGGATCCGCACGCCGGTGGACGCCCCGTAAACCTTCGTGATAACGTTGTACGGTCGCACTCCAGTCCCGCCGAGTTACCTTCGGTTTATACTCTACAGCTAGACCCTTGGGCGTCCAACAGCAGCGTCTTAGCCTGGGCTGAATCGCCCGAGAAAACTGAGGAACCTAAAGGGGGAAGCGGGTACGGTTCTCCTGGGGGGGGAACGGTTCGCCCCAACTACAAAAAGGGAATGGCGGCTGGTCGCGCGCTACATTCACTCGCGCT\n",
      "\n",
      "Original DNA = TGTGCATTCTCCACCCTTGCAAGGGGTTGGTTTAGGGGATGGATCCCTCGAACCCGCCAGGTCTGTTCTGATAAAGCGGCAATTGTGGAGATCGTCCAACCGTGATTAAGCCTTAATCCTGGGTCAACATACTCTAAAACCATAGCCCGCCGCCTGGCCTAGCGCTTATCACAGAGCTATTCAGCGCGGCCTGGAGACCCCGGGCGCCAACGGTTTTCCGGCACCCGGCGCTCATAACGACGGGTCGACCTTCAGCGGCACATATCACTAAAAAGGAGTCTGATCGGTGTGCCCAGGAACATCGGCTCGTCGGTTCTGCAGCGATGGTCACACAGAGAAGATCGTAGGCGCCGGAGTACTGTCATTGGGGTTGACTAGGCTCCAGCTGGGTGCCGTAATCTTGCTGGGAGGCACGGCGCACCCGCCCTGAGCGCCCAATAGGTCGAGCGCCTAGGCCTACAGACGGTCGGCACGTTAGTCCTTCCGTCGCAGCCTAGTGGACCTCAGCGACAGCCGGACCCCCGCGACGTCGCCTGGCCCGAGCGGTCCGACCGCAGGCTACAAAAGCATTTTTCTACTCATCGCCGGACGCCACTAGCAACACTCGCCGGCCATCGCCTGTATGTGTGGCCAGGGCTCGTGGTGAAGTTCCTATGGTCCGACCAGCAGTCGGGTCTGCGCCTTGCATTGCTTATCTGAAGACCTGTGATGGGGTTATTCATTTACCACTGAGCTACGGCGTTCCGCGACGGCACAGACTGGCCTGTTTAGTTTCACACCGACGTTGGAGAATGTGTGTCATCTAGCGTTTCACGGTCAAGGAGATTGCGGAATAGGCCCAATCGCCCTCCGGTTATCAATCCCCATTTACGGACCAATGCTTACGAAGCGGTTTACGTATAACCAGGATACTGTGTCCTAGCGGGGAAAAGGATCGGATCCGCACGCCGGTGGACGCCCCGTAAACCTTCGTGATAACGTTGTACGGTCGCACTCCAGTCCCGCCGAGTTACCTTCGGTTTATACTCTACAGCTAGACCCTTGGGCGTCCAACAGCAGCGTCTTAGCCTGGGCTGAATCGCCCGAGAAAACTGAGGAACCTAAAGGGGGAAGCGGGTACGGTTCTCCTGGGGGGGGAACGGTTCGCCCCAACTACAAAAAGGGAATGGCGGCTGGTCGCGCGCTACATTCACTCGCGCT\n"
     ]
    }
   ],
   "source": [
    "# Here we reconstruct the original DNA from the chopes\n",
    "\n",
    "DebugMode = False\n",
    "\n",
    "if DebugMode:\n",
    "    print(f'\\nAll chops of DNA mixed, before merging:\\n')\n",
    "    for j in range(0,len(Unsorted_DNA_index)):\n",
    "        str = Unsorted_DNA_sequence[j]\n",
    "        print(f'{j}: {str}')\n",
    "\n",
    "if DebugMode:\n",
    "    print(f'\\nlen(Unsorted_DNA_sequence)={len(Unsorted_DNA_sequence)}\\n')\n",
    "    print(Unsorted_DNA_sequence[0])\n",
    "\n",
    "    \n",
    "Iterations = 0\n",
    "while len(Unsorted_DNA_sequence)>1:\n",
    "        \n",
    "    Iterations = Iterations + 1\n",
    "    if Iterations>MaxIterationsAllowed:\n",
    "        break\n",
    "        \n",
    "    Examined_DNA = Unsorted_DNA_sequence[0]\n",
    "    Search_Sequence = Examined_DNA[0:overlap_min-1]\n",
    "    if DebugMode:\n",
    "        print(f'Search_Sequence: {Search_Sequence}')\n",
    "        \n",
    "        if DebugMode:\n",
    "            iii=input('Pause for Debugging')\n",
    "    \n",
    "    print(f'len(Unsorted_DNA_sequence)={len(Unsorted_DNA_sequence)}')\n",
    "\n",
    "    for j in range(1,len(Unsorted_DNA_sequence)):\n",
    "        Iterations = Iterations + 1\n",
    "        if Iterations>MaxIterationsAllowed:\n",
    "            if DebugMode:\n",
    "                print('!!!break bacuase too many iterations!!!!')\n",
    "            break\n",
    "            \n",
    "        found= False\n",
    "        if DebugMode:        \n",
    "            print(f'Looking for [{Search_Sequence}] in {j}: {Unsorted_DNA_sequence[j]}')\n",
    "        if Search_Sequence in Unsorted_DNA_sequence[j]:\n",
    "            found = True\n",
    "            location = Unsorted_DNA_sequence[j].find(Search_Sequence)\n",
    "            DNA_to_Merge = Unsorted_DNA_sequence[j]\n",
    "            if DebugMode:\n",
    "                print(f'Found a match at line {j}:{location}')\n",
    "                print(f'len(DNA_Chop)={len(Unsorted_DNA_sequence)}')\n",
    "                print(f'{j}[{location}]: {DNA_to_Merge}')\n",
    "\n",
    "            # Merge the 2 chops to one bigger Chop & delete the redundant Chop\n",
    "            Part1 = DNA_to_Merge[:location]\n",
    "            Part2 = Examined_DNA\n",
    "            Merged = Part1 + Part2\n",
    "            if DebugMode:\n",
    "                print(f'(1) {Part1}\\n(2) {Part2}\\n(+) {Merged}\\n')\n",
    "            Unsorted_DNA_sequence[j]=Merged\n",
    "            Unsorted_DNA_sequence.remove(Unsorted_DNA_sequence[0])\n",
    "            break\n",
    "            \n",
    "    if found==False:\n",
    "        temp = Unsorted_DNA_sequence[0]\n",
    "        index = random.randint(0, len(Unsorted_DNA_sequence)-1)\n",
    "        Unsorted_DNA_sequence[0] = Unsorted_DNA_sequence[index]\n",
    "        Unsorted_DNA_sequence[index] = ' '+temp\n",
    "        if DebugMode:\n",
    "            print(f'Swapped 0-{index}')\n",
    "            print(Unsorted_DNA_sequence[0])\n",
    "\n",
    "print(f'\\nRestored DNA = {Unsorted_DNA_sequence[0].strip()}\\n')\n",
    "print(f'Original DNA = {FullDNA}')\n"
   ]
  },
  {
   "cell_type": "code",
   "execution_count": null,
   "id": "07e3146e",
   "metadata": {},
   "outputs": [],
   "source": []
  }
 ],
 "metadata": {
  "kernelspec": {
   "display_name": "Python 3 (ipykernel)",
   "language": "python",
   "name": "python3"
  },
  "language_info": {
   "codemirror_mode": {
    "name": "ipython",
    "version": 3
   },
   "file_extension": ".py",
   "mimetype": "text/x-python",
   "name": "python",
   "nbconvert_exporter": "python",
   "pygments_lexer": "ipython3",
   "version": "3.9.12"
  }
 },
 "nbformat": 4,
 "nbformat_minor": 5
}
